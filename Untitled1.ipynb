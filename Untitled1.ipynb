{
 "cells": [
  {
   "cell_type": "code",
   "execution_count": 2,
   "metadata": {
    "collapsed": true
   },
   "outputs": [],
   "source": [
    "import shapefile \n",
    "import numpy as np\n",
    "import pandas as pd\n",
    "import matplotlib.pyplot as plt\n",
    "from mpl_toolkits.basemap import Basemap\n",
    "%matplotlib inline"
   ]
  },
  {
   "cell_type": "code",
   "execution_count": 10,
   "metadata": {},
   "outputs": [
    {
     "name": "stdout",
     "output_type": "stream",
     "text": [
      " El volumen de la unidad C es Windows\n",
      " El número de serie del volumen es: 8679-09ED\n",
      "\n",
      " Directorio de C:\\Users\\Nestor\\Documents\\Trabajos\\Estadia_Ing\\utna_roya\\Roya\n",
      "\n",
      "12/02/2018  10:55    <DIR>          .\n",
      "12/02/2018  10:55    <DIR>          ..\n",
      "06/02/2018  10:12             1.292 .gitignore\n",
      "12/02/2018  10:43    <DIR>          .ipynb_checkpoints\n",
      "26/01/2018  20:09               138 api.py\n",
      "08/02/2018  12:43         6.605.135 d1.txt\n",
      "12/02/2018  10:40    <DIR>          data\n",
      "07/12/2017  16:25            24.513 Estados.dbf\n",
      "07/12/2017  16:25               143 Estados.prj\n",
      "07/12/2017  16:25               257 Estados.qpj\n",
      "07/12/2017  16:25        10.075.768 Estados.shp\n",
      "07/12/2017  16:25               356 Estados.shx\n",
      "12/02/2018  10:53             6.345 foo.jpg\n",
      "08/02/2018  14:49             2.671 roya.py\n",
      "12/02/2018  09:52               662 Untitled.ipynb\n",
      "12/02/2018  10:55             3.338 Untitled1.ipynb\n",
      "08/02/2018  09:32    <DIR>          __pycache__\n",
      "              12 archivos     16.720.618 bytes\n",
      "               5 dirs  258.441.441.280 bytes libres\n"
     ]
    }
   ],
   "source": [
    "!dir"
   ]
  },
  {
   "cell_type": "code",
   "execution_count": 17,
   "metadata": {
    "collapsed": true
   },
   "outputs": [],
   "source": [
    "data = pd.read_csv('d1.txt')"
   ]
  },
  {
   "cell_type": "code",
   "execution_count": 18,
   "metadata": {},
   "outputs": [
    {
     "data": {
      "text/html": [
       "<div>\n",
       "<style>\n",
       "    .dataframe thead tr:only-child th {\n",
       "        text-align: right;\n",
       "    }\n",
       "\n",
       "    .dataframe thead th {\n",
       "        text-align: left;\n",
       "    }\n",
       "\n",
       "    .dataframe tbody tr th {\n",
       "        vertical-align: top;\n",
       "    }\n",
       "</style>\n",
       "<table border=\"1\" class=\"dataframe\">\n",
       "  <thead>\n",
       "    <tr style=\"text-align: right;\">\n",
       "      <th></th>\n",
       "      <th>Long</th>\n",
       "      <th>Lat</th>\n",
       "      <th>Graupel</th>\n",
       "      <th>Hail</th>\n",
       "      <th>Rain</th>\n",
       "      <th>Tmax</th>\n",
       "      <th>Tmin</th>\n",
       "      <th>Tpro</th>\n",
       "      <th>Dpoint</th>\n",
       "      <th>Hr</th>\n",
       "      <th>Windpro</th>\n",
       "      <th>WindDir</th>\n",
       "      <th>Hrmin</th>\n",
       "      <th>Hrmax</th>\n",
       "      <th>TprSoil0_10</th>\n",
       "      <th>TprSoil10_40</th>\n",
       "      <th>WprSoil0_10</th>\n",
       "      <th>WprSoil10_40</th>\n",
       "    </tr>\n",
       "  </thead>\n",
       "  <tbody>\n",
       "    <tr>\n",
       "      <th>0</th>\n",
       "      <td>-118.236</td>\n",
       "      <td>12.3782</td>\n",
       "      <td>0.0</td>\n",
       "      <td>0.0</td>\n",
       "      <td>0.430</td>\n",
       "      <td>25.98</td>\n",
       "      <td>17.388605</td>\n",
       "      <td>25.6883</td>\n",
       "      <td>22.7517</td>\n",
       "      <td>84.6842</td>\n",
       "      <td>25.95997</td>\n",
       "      <td>70.20499</td>\n",
       "      <td>82.65</td>\n",
       "      <td>86.96</td>\n",
       "      <td>26.77</td>\n",
       "      <td>0.0</td>\n",
       "      <td>100.0</td>\n",
       "      <td>100.0</td>\n",
       "    </tr>\n",
       "    <tr>\n",
       "      <th>1</th>\n",
       "      <td>-118.109</td>\n",
       "      <td>12.3782</td>\n",
       "      <td>0.0</td>\n",
       "      <td>0.0</td>\n",
       "      <td>0.440</td>\n",
       "      <td>25.98</td>\n",
       "      <td>17.354523</td>\n",
       "      <td>25.6754</td>\n",
       "      <td>22.7421</td>\n",
       "      <td>84.6962</td>\n",
       "      <td>25.91579</td>\n",
       "      <td>70.12399</td>\n",
       "      <td>82.40</td>\n",
       "      <td>87.05</td>\n",
       "      <td>26.76</td>\n",
       "      <td>0.0</td>\n",
       "      <td>100.0</td>\n",
       "      <td>100.0</td>\n",
       "    </tr>\n",
       "    <tr>\n",
       "      <th>2</th>\n",
       "      <td>-117.981</td>\n",
       "      <td>12.3782</td>\n",
       "      <td>0.0</td>\n",
       "      <td>0.0</td>\n",
       "      <td>0.540</td>\n",
       "      <td>25.97</td>\n",
       "      <td>17.313625</td>\n",
       "      <td>25.6604</td>\n",
       "      <td>22.7358</td>\n",
       "      <td>84.7425</td>\n",
       "      <td>25.90780</td>\n",
       "      <td>70.03645</td>\n",
       "      <td>82.25</td>\n",
       "      <td>87.21</td>\n",
       "      <td>26.75</td>\n",
       "      <td>0.0</td>\n",
       "      <td>100.0</td>\n",
       "      <td>100.0</td>\n",
       "    </tr>\n",
       "    <tr>\n",
       "      <th>3</th>\n",
       "      <td>-117.854</td>\n",
       "      <td>12.3782</td>\n",
       "      <td>0.0</td>\n",
       "      <td>0.0</td>\n",
       "      <td>0.899</td>\n",
       "      <td>25.96</td>\n",
       "      <td>17.265910</td>\n",
       "      <td>25.6492</td>\n",
       "      <td>22.7375</td>\n",
       "      <td>84.8108</td>\n",
       "      <td>25.90602</td>\n",
       "      <td>69.95029</td>\n",
       "      <td>82.20</td>\n",
       "      <td>87.36</td>\n",
       "      <td>26.76</td>\n",
       "      <td>0.0</td>\n",
       "      <td>100.0</td>\n",
       "      <td>100.0</td>\n",
       "    </tr>\n",
       "    <tr>\n",
       "      <th>4</th>\n",
       "      <td>-117.726</td>\n",
       "      <td>12.3782</td>\n",
       "      <td>0.0</td>\n",
       "      <td>0.0</td>\n",
       "      <td>1.746</td>\n",
       "      <td>25.95</td>\n",
       "      <td>17.211379</td>\n",
       "      <td>25.6346</td>\n",
       "      <td>22.7425</td>\n",
       "      <td>84.9108</td>\n",
       "      <td>25.85527</td>\n",
       "      <td>69.94817</td>\n",
       "      <td>82.30</td>\n",
       "      <td>87.49</td>\n",
       "      <td>26.75</td>\n",
       "      <td>0.0</td>\n",
       "      <td>100.0</td>\n",
       "      <td>100.0</td>\n",
       "    </tr>\n",
       "  </tbody>\n",
       "</table>\n",
       "</div>"
      ],
      "text/plain": [
       "      Long      Lat  Graupel  Hail   Rain   Tmax       Tmin     Tpro   Dpoint  \\\n",
       "0 -118.236  12.3782      0.0   0.0  0.430  25.98  17.388605  25.6883  22.7517   \n",
       "1 -118.109  12.3782      0.0   0.0  0.440  25.98  17.354523  25.6754  22.7421   \n",
       "2 -117.981  12.3782      0.0   0.0  0.540  25.97  17.313625  25.6604  22.7358   \n",
       "3 -117.854  12.3782      0.0   0.0  0.899  25.96  17.265910  25.6492  22.7375   \n",
       "4 -117.726  12.3782      0.0   0.0  1.746  25.95  17.211379  25.6346  22.7425   \n",
       "\n",
       "        Hr   Windpro   WindDir   Hrmin   Hrmax   TprSoil0_10  TprSoil10_40  \\\n",
       "0  84.6842  25.95997  70.20499   82.65   86.96         26.77           0.0   \n",
       "1  84.6962  25.91579  70.12399   82.40   87.05         26.76           0.0   \n",
       "2  84.7425  25.90780  70.03645   82.25   87.21         26.75           0.0   \n",
       "3  84.8108  25.90602  69.95029   82.20   87.36         26.76           0.0   \n",
       "4  84.9108  25.85527  69.94817   82.30   87.49         26.75           0.0   \n",
       "\n",
       "    WprSoil0_10  WprSoil10_40  \n",
       "0         100.0         100.0  \n",
       "1         100.0         100.0  \n",
       "2         100.0         100.0  \n",
       "3         100.0         100.0  \n",
       "4         100.0         100.0  "
      ]
     },
     "execution_count": 18,
     "metadata": {},
     "output_type": "execute_result"
    }
   ],
   "source": [
    "data.head()"
   ]
  },
  {
   "cell_type": "code",
   "execution_count": 8,
   "metadata": {},
   "outputs": [
    {
     "name": "stderr",
     "output_type": "stream",
     "text": [
      "C:\\Users\\Nestor\\Documents\\Anaconda\\lib\\site-packages\\mpl_toolkits\\basemap\\__init__.py:3236: MatplotlibDeprecationWarning: The ishold function was deprecated in version 2.0.\n",
      "  b = ax.ishold()\n",
      "C:\\Users\\Nestor\\Documents\\Anaconda\\lib\\site-packages\\mpl_toolkits\\basemap\\__init__.py:3245: MatplotlibDeprecationWarning: axes.hold is deprecated.\n",
      "    See the API Changes document (http://matplotlib.org/api/api_changes.html)\n",
      "    for more details.\n",
      "  ax.hold(b)\n"
     ]
    },
    {
     "data": {
      "text/plain": [
       "<function matplotlib.pyplot.show>"
      ]
     },
     "execution_count": 8,
     "metadata": {},
     "output_type": "execute_result"
    },
    {
     "data": {
      "image/png": "[encoded data removed]",
      "text/plain": [
       "<matplotlib.figure.Figure at 0x1b8c3c69240>"
      ]
     },
     "metadata": {},
     "output_type": "display_data"
    }
   ],
   "source": [
    "import matplotlib.pyplot as plt\n",
    "from mpl_toolkits.basemap import Basemap\n",
    "import numpy as np\n",
    "\n",
    "Punto_Rocio = data.loc[data['WprSoil10_40'] <=99]\n",
    "#Eje_x = np.array(Punto_Rocio['Long'])\n",
    "#Eje_y = np.array(Punto_Rocio['Lat'])\n",
    "\n",
    "Temp_prom = Punto_Rocio.loc[Punto_Rocio['Tpro'] >=25]\n",
    "Temp_prom = Temp_prom.loc[Temp_prom['Tpro'] <=30]\n",
    "Eje_x = np.array(Temp_prom['Long'])\n",
    "Eje_y = np.array(Temp_prom['Lat'])\n",
    "\n",
    "Long = np.array(data['Long'])\n",
    "Long_min=Long.min()\n",
    "Long_max=Long.max()\n",
    "\n",
    "Lat = np.array((data)['Lat'])\n",
    "Lat_min=Lat.min()\n",
    "Lat_max=Lat.max()\n",
    "\n",
    "\n",
    "map = Basemap(projection='mill',\n",
    "              resolution='l',\n",
    "              area_thresh=0.01,\n",
    "              llcrnrlon=Long_min.min(), llcrnrlat=Lat_min.min(),\n",
    "              urcrnrlon=Long_max.max(), urcrnrlat=Lat_max.max())\n",
    "\n",
    "\n",
    "#map.drawcountries(color=\"gray\")\n",
    "#map.fillcontinents(color='#CD5C5C', lake_color='#53BEFD')\n",
    "#map.drawmapboundary(color='black', linewidth=0.5, fill_color='#008080')\n",
    "\n",
    "\n",
    "x,y = map(Eje_x, Eje_y)\n",
    "map.scatter(x,y, marker='.', color='k')\n",
    "map.readshapefile(\"Estados\", 'Mill')\n",
    "\n",
    "\n",
    "sf = shapefile.Reader(\"Estados.shp\")\n",
    "shapes = sf.shapes()\n",
    "records = sf.records()\n",
    "for record, shape in zip(records, shapes):\n",
    "    if record[3] == \"Regensburg\":\n",
    "        print(shape.shapeType)\n",
    "        lons, lates = zip(*shape.points)\n",
    "        print(record)\n",
    "        print(lons)\n",
    "        print(lates)\n",
    "\n",
    "plt.savefig(\"Mapa de Lluvia.jpg\")\n",
    "procesado = data.loc[data['Rain'] >= 20]\n",
    "procesado = procesado.loc[data['Rain'] <= 50]\n",
    "a = np.array(procesado['Rain'])\n",
    "plt.plot(a)\n",
    "plt.xlabel('LLuvia')\n",
    "plt.grid(False)\n",
    "plt.show"
   ]
  },
  {
   "cell_type": "code",
   "execution_count": 12,
   "metadata": {},
   "outputs": [
    {
     "name": "stderr",
     "output_type": "stream",
     "text": [
      "C:\\Users\\Nestor\\Documents\\Anaconda\\lib\\site-packages\\matplotlib\\colorbar.py:218: UserWarning: Use the colorbar set_ticks() method instead.\n",
      "  warnings.warn(\"Use the colorbar set_ticks() method instead.\")\n",
      "C:\\Users\\Nestor\\Documents\\Anaconda\\lib\\site-packages\\mpl_toolkits\\basemap\\__init__.py:1707: MatplotlibDeprecationWarning: The axesPatch function was deprecated in version 2.1. Use Axes.patch instead.\n",
      "  limb = ax.axesPatch\n",
      "C:\\Users\\Nestor\\Documents\\Anaconda\\lib\\site-packages\\mpl_toolkits\\basemap\\__init__.py:1710: MatplotlibDeprecationWarning: The axesPatch function was deprecated in version 2.1. Use Axes.patch instead.\n",
      "  if limb is not ax.axesPatch:\n"
     ]
    },
    {
     "data": {
      "image/png": "[encoded data removed]",
      "text/plain": [
       "<matplotlib.figure.Figure at 0x29d1f9cfc50>"
      ]
     },
     "metadata": {},
     "output_type": "display_data"
    }
   ],
   "source": [
    "from mpl_toolkits.basemap import Basemap\n",
    "import matplotlib.pyplot as plt\n",
    "\n",
    "m = Basemap(projection='mill',llcrnrlat=-60,urcrnrlat=90,\\\n",
    "            llcrnrlon=-180,urcrnrlon=180,resolution='c')\n",
    "m.drawcoastlines()\n",
    "m.fillcontinents(color='#072b57', lake_color='#FFFFFF')\n",
    "m.drawmapboundary(fill_color='#FFFFFF')\n",
    "plt.title(\"Quick Basemap Example!\")\n",
    "plt.show()"
   ]
  },
  {
   "cell_type": "code",
   "execution_count": 2,
   "metadata": {},
   "outputs": [
    {
     "data": {
      "text/html": [
       "<div>\n",
       "<style>\n",
       "    .dataframe thead tr:only-child th {\n",
       "        text-align: right;\n",
       "    }\n",
       "\n",
       "    .dataframe thead th {\n",
       "        text-align: left;\n",
       "    }\n",
       "\n",
       "    .dataframe tbody tr th {\n",
       "        vertical-align: top;\n",
       "    }\n",
       "</style>\n",
       "<table border=\"1\" class=\"dataframe\">\n",
       "  <thead>\n",
       "    <tr style=\"text-align: right;\">\n",
       "      <th></th>\n",
       "      <th>coverage</th>\n",
       "      <th>name</th>\n",
       "      <th>reports</th>\n",
       "      <th>year</th>\n",
       "    </tr>\n",
       "  </thead>\n",
       "  <tbody>\n",
       "    <tr>\n",
       "      <th>Cochice</th>\n",
       "      <td>25</td>\n",
       "      <td>Jason</td>\n",
       "      <td>4</td>\n",
       "      <td>2012</td>\n",
       "    </tr>\n",
       "    <tr>\n",
       "      <th>Pima</th>\n",
       "      <td>94</td>\n",
       "      <td>Molly</td>\n",
       "      <td>24</td>\n",
       "      <td>2012</td>\n",
       "    </tr>\n",
       "    <tr>\n",
       "      <th>Santa Cruz</th>\n",
       "      <td>57</td>\n",
       "      <td>Tina</td>\n",
       "      <td>31</td>\n",
       "      <td>2013</td>\n",
       "    </tr>\n",
       "    <tr>\n",
       "      <th>Maricopa</th>\n",
       "      <td>62</td>\n",
       "      <td>Jake</td>\n",
       "      <td>2</td>\n",
       "      <td>2014</td>\n",
       "    </tr>\n",
       "    <tr>\n",
       "      <th>Yuma</th>\n",
       "      <td>70</td>\n",
       "      <td>Amy</td>\n",
       "      <td>3</td>\n",
       "      <td>2014</td>\n",
       "    </tr>\n",
       "  </tbody>\n",
       "</table>\n",
       "</div>"
      ],
      "text/plain": [
       "            coverage   name  reports  year\n",
       "Cochice           25  Jason        4  2012\n",
       "Pima              94  Molly       24  2012\n",
       "Santa Cruz        57   Tina       31  2013\n",
       "Maricopa          62   Jake        2  2014\n",
       "Yuma              70    Amy        3  2014"
      ]
     },
     "execution_count": 2,
     "metadata": {},
     "output_type": "execute_result"
    }
   ],
   "source": [
    "import pandas as pd\n",
    "import numpy as np\n",
    "\n",
    "data = {'name': ['Jason', 'Molly', 'Tina', 'Jake', 'Amy'], \n",
    "        'year': [2012, 2012, 2013, 2014, 2014], \n",
    "        'reports': [4, 24, 31, 2, 3],\n",
    "        'coverage': [25, 94, 57, 62, 70]}\n",
    "df = pd.DataFrame(data, index = ['Cochice', 'Pima', 'Santa Cruz', 'Maricopa', 'Yuma'])\n",
    "df"
   ]
  },
  {
   "cell_type": "code",
   "execution_count": 3,
   "metadata": {
    "collapsed": true
   },
   "outputs": [],
   "source": [
    "capitalizer = lambda x: x.upper()"
   ]
  },
  {
   "cell_type": "code",
   "execution_count": 4,
   "metadata": {},
   "outputs": [
    {
     "data": {
      "text/plain": [
       "Cochice       JASON\n",
       "Pima          MOLLY\n",
       "Santa Cruz     TINA\n",
       "Maricopa       JAKE\n",
       "Yuma            AMY\n",
       "Name: name, dtype: object"
      ]
     },
     "execution_count": 4,
     "metadata": {},
     "output_type": "execute_result"
    }
   ],
   "source": [
    "df['name'].apply(capitalizer)"
   ]
  },
  {
   "cell_type": "code",
   "execution_count": 11,
   "metadata": {},
   "outputs": [],
   "source": [
    "import matplotlib\n",
    "import matplotlib.pyplot as plt\n",
    "import random\n",
    "\n",
    "# We have three dimensions of data. x and y will be plotted on the x and y axis, while z will \n",
    "# be represented with color.\n",
    "# If z is a numpy array, matplotlib refuses to plot this.\n",
    "x = list(range(300))\n",
    "y = sorted([random.random()*10 for i in range(300)])\n",
    "z = list(reversed([i**3 for i in y]))\n",
    "\n",
    "# cmap will generate a tuple of RGBA values for a given number in the range 0.0 to 1.0 \n",
    "# (also 0 to 255 - not used in this example).\n",
    "# To map our z values cleanly to this range, we create a Normalize object.\n",
    "cmap = matplotlib.cm.get_cmap('viridis')\n",
    "normalize = matplotlib.colors.Normalize(vmin=min(z), vmax=max(z))\n",
    "colors = [cmap(normalize(value)) for value in z]\n",
    "\n",
    "fig, ax = plt.subplots(figsize=(10,10))\n",
    "ax.scatter(x, y, color=colors)\n",
    "\n",
    "# Optionally add a colorbar\n",
    "cax, _ = matplotlib.colorbar.make_axes(ax)\n",
    "cbar = matplotlib.colorbar.ColorbarBase(cax, cmap=cmap, norm=normalize)"
   ]
  },
  {
   "cell_type": "code",
   "execution_count": 16,
   "metadata": {},
   "outputs": [
    {
     "ename": "NameError",
     "evalue": "name 'data' is not defined",
     "output_type": "error",
     "traceback": [
      "\u001b[1;31m---------------------------------------------------------------------------\u001b[0m",
      "\u001b[1;31mNameError\u001b[0m                                 Traceback (most recent call last)",
      "\u001b[1;32m<ipython-input-16-8834a8977fd3>\u001b[0m in \u001b[0;36m<module>\u001b[1;34m()\u001b[0m\n\u001b[1;32m----> 1\u001b[1;33m \u001b[0mLong\u001b[0m \u001b[1;33m=\u001b[0m \u001b[0mnp\u001b[0m\u001b[1;33m.\u001b[0m\u001b[0marray\u001b[0m\u001b[1;33m(\u001b[0m\u001b[0mdata\u001b[0m\u001b[1;33m[\u001b[0m\u001b[1;34m'Long'\u001b[0m\u001b[1;33m]\u001b[0m\u001b[1;33m)\u001b[0m\u001b[1;33m\u001b[0m\u001b[0m\n\u001b[0m\u001b[0;32m      2\u001b[0m \u001b[0mLong_min\u001b[0m\u001b[1;33m=\u001b[0m\u001b[0mLong\u001b[0m\u001b[1;33m.\u001b[0m\u001b[0mmin\u001b[0m\u001b[1;33m(\u001b[0m\u001b[1;33m)\u001b[0m\u001b[1;33m\u001b[0m\u001b[0m\n\u001b[0;32m      3\u001b[0m \u001b[0mLong_max\u001b[0m\u001b[1;33m=\u001b[0m\u001b[0mLong\u001b[0m\u001b[1;33m.\u001b[0m\u001b[0mmax\u001b[0m\u001b[1;33m(\u001b[0m\u001b[1;33m)\u001b[0m\u001b[1;33m\u001b[0m\u001b[0m\n\u001b[0;32m      4\u001b[0m \u001b[1;33m\u001b[0m\u001b[0m\n\u001b[0;32m      5\u001b[0m \u001b[0mLat\u001b[0m \u001b[1;33m=\u001b[0m \u001b[0mnp\u001b[0m\u001b[1;33m.\u001b[0m\u001b[0marray\u001b[0m\u001b[1;33m(\u001b[0m\u001b[1;33m(\u001b[0m\u001b[0mdata\u001b[0m\u001b[1;33m)\u001b[0m\u001b[1;33m[\u001b[0m\u001b[1;34m'Lat'\u001b[0m\u001b[1;33m]\u001b[0m\u001b[1;33m)\u001b[0m\u001b[1;33m\u001b[0m\u001b[0m\n",
      "\u001b[1;31mNameError\u001b[0m: name 'data' is not defined"
     ]
    }
   ],
   "source": [
    "Long = np.array(data['Long'])\n",
    "Long_min=Long.min()\n",
    "Long_max=Long.max()\n",
    "\n",
    "Lat = np.array((data)['Lat'])\n",
    "Lat_min=Lat.min()\n",
    "Lat_max=Lat.max()"
   ]
  },
  {
   "cell_type": "code",
   "execution_count": 20,
   "metadata": {},
   "outputs": [
    {
     "ename": "AttributeError",
     "evalue": "'list' object has no attribute 'min'",
     "output_type": "error",
     "traceback": [
      "\u001b[1;31m---------------------------------------------------------------------------\u001b[0m",
      "\u001b[1;31mAttributeError\u001b[0m                            Traceback (most recent call last)",
      "\u001b[1;32m<ipython-input-20-846978c6f4e1>\u001b[0m in \u001b[0;36m<module>\u001b[1;34m()\u001b[0m\n\u001b[0;32m     13\u001b[0m \u001b[0mnumRows\u001b[0m \u001b[1;33m=\u001b[0m \u001b[0mlen\u001b[0m\u001b[1;33m(\u001b[0m\u001b[0my\u001b[0m\u001b[1;33m)\u001b[0m\u001b[1;33m;\u001b[0m\u001b[1;33m\u001b[0m\u001b[0m\n\u001b[0;32m     14\u001b[0m \u001b[1;33m\u001b[0m\u001b[0m\n\u001b[1;32m---> 15\u001b[1;33m \u001b[0mxi\u001b[0m \u001b[1;33m=\u001b[0m \u001b[0mnp\u001b[0m\u001b[1;33m.\u001b[0m\u001b[0mlinspace\u001b[0m\u001b[1;33m(\u001b[0m\u001b[0mx\u001b[0m\u001b[1;33m.\u001b[0m\u001b[0mmin\u001b[0m\u001b[1;33m(\u001b[0m\u001b[1;33m)\u001b[0m\u001b[1;33m,\u001b[0m \u001b[0mx\u001b[0m\u001b[1;33m.\u001b[0m\u001b[0mmax\u001b[0m\u001b[1;33m(\u001b[0m\u001b[1;33m)\u001b[0m\u001b[1;33m,\u001b[0m \u001b[0mnumCols\u001b[0m\u001b[1;33m)\u001b[0m\u001b[1;33m\u001b[0m\u001b[0m\n\u001b[0m\u001b[0;32m     16\u001b[0m \u001b[0myi\u001b[0m \u001b[1;33m=\u001b[0m \u001b[0mnp\u001b[0m\u001b[1;33m.\u001b[0m\u001b[0mlinspace\u001b[0m\u001b[1;33m(\u001b[0m\u001b[0my\u001b[0m\u001b[1;33m.\u001b[0m\u001b[0mmin\u001b[0m\u001b[1;33m(\u001b[0m\u001b[1;33m)\u001b[0m\u001b[1;33m,\u001b[0m \u001b[0my\u001b[0m\u001b[1;33m.\u001b[0m\u001b[0mmax\u001b[0m\u001b[1;33m(\u001b[0m\u001b[1;33m)\u001b[0m\u001b[1;33m,\u001b[0m \u001b[0mnumRows\u001b[0m\u001b[1;33m)\u001b[0m\u001b[1;33m\u001b[0m\u001b[0m\n\u001b[0;32m     17\u001b[0m \u001b[1;33m\u001b[0m\u001b[0m\n",
      "\u001b[1;31mAttributeError\u001b[0m: 'list' object has no attribute 'min'"
     ]
    }
   ],
   "source": [
    "import pandas as pd\n",
    "import os\n",
    "import math\n",
    "import numpy as np\n",
    "import h5py\n",
    "import matplotlib.pyplot as plt\n",
    "from mpl_toolkits.basemap import Basemap\n",
    "from scipy.interpolate import griddata as gd\n",
    "from time import gmtime, strftime\n",
    "\n",
    "# generar xi, yi\n",
    "numCols = len(x);\n",
    "numRows = len(y);\n",
    "\n",
    "xi = np.linspace(x.min(), x.max(), numCols)\n",
    "yi = np.linspace(y.min(), y.max(), numRows)\n",
    "\n",
    "# generar el meshgrid\n",
    "xi, yi = np.meshgrid(xi, yi)\n",
    "\n",
    "# generar zi\n",
    "z = np.array(data['Prec'])\n",
    "zi = gd((x,y), z, (xi,yi), method='cubic')"
   ]
  },
  {
   "cell_type": "code",
   "execution_count": 38,
   "metadata": {},
   "outputs": [
    {
     "ename": "IndentationError",
     "evalue": "unexpected indent (<ipython-input-38-8529305804c2>, line 3)",
     "output_type": "error",
     "traceback": [
      "\u001b[1;36m  File \u001b[1;32m\"<ipython-input-38-8529305804c2>\"\u001b[1;36m, line \u001b[1;32m3\u001b[0m\n\u001b[1;33m    roya = df.loc[df['d{}'.format(i)]=='1']\u001b[0m\n\u001b[1;37m    ^\u001b[0m\n\u001b[1;31mIndentationError\u001b[0m\u001b[1;31m:\u001b[0m unexpected indent\n"
     ]
    }
   ],
   "source": [
    "map = Basemap(projection='mill', resolution='c', llcrnrlon=Long.min(), llcrnrlat=Lat.min(), \n",
    "\t\t\turcrnrlon=Long.max(), urcrnrlat=Lat.max())\n",
    "\t\t\troya = df.loc[df['d{}'.format(i)]=='1']\n",
    "\t\t\tx, y = map(np.array(roya['Long']), np.array(roya['Lat'])) \n",
    "\t\t\tnumCols = len(x)\n",
    "\t\t\tnumRows = len(y)\n",
    "\t\t\txi = np.linspace(x.min(), x.max(), numCols)\n",
    "\t\t\tyi = np.linspace(y.min(), y.max(), numRows)\n",
    "\t\t\txi, yi = np.meshgrid(xi, yi)\n",
    "\n",
    "\t\t\tz = np.array(roya['Indice'])\n",
    "\t\t\tzi = gd((x,y), z, (xi, yi), method='cubic')\n",
    "\n",
    "\t\t\tcs = map.contourf(xi, yi, zi, cmap='RdYlGn')\n",
    "\t\t\tcbar = map.colorbar(cs, location='bottom')\n",
    "\t\t\tcbar.set_label('Probabilidad da aparicion de ROYA')\n",
    "\t\t\tprint('Generando mapa del dia {}'.format(FehasArreglo[i-1]))\n",
    "\t\t\tplt.title('Pronostico de ROYA \\n del {}'.format(FehasArreglo[i-1]))\n",
    "\t\t\tplt.savefig('Pronostico de ROYA del {}.png'.format(FehasArreglo[i-1]), dpi=300)\n",
    "\t\t\tplt.clf()"
   ]
  },
  {
   "cell_type": "code",
   "execution_count": 33,
   "metadata": {},
   "outputs": [
    {
     "data": {
      "image/png": "[encoded data removed]",
      "text/plain": [
       "<matplotlib.figure.Figure at 0x29d22a5ecc0>"
      ]
     },
     "metadata": {},
     "output_type": "display_data"
    }
   ],
   "source": [
    "import matplotlib.pyplot as plt\n",
    "N = 8\n",
    "y = np.zeros(N)\n",
    "x1 = np.linspace(0, 10, N, endpoint=True)\n",
    "x2 = np.linspace(0, 10, N, endpoint=False)\n",
    "plt.plot(x1, y, 'o')\n",
    "\n",
    "plt.plot(x2, y + 0.5, 'o')\n",
    "\n",
    "plt.ylim([-0.5, 1])\n",
    "(-0.5, 1)\n",
    "plt.show()"
   ]
  },
  {
   "cell_type": "code",
   "execution_count": 39,
   "metadata": {},
   "outputs": [
    {
     "data": {
      "text/plain": [
       "array([2.  , 2.25, 2.5 , 2.75, 3.  ])"
      ]
     },
     "execution_count": 39,
     "metadata": {},
     "output_type": "execute_result"
    }
   ],
   "source": [
    "np.linspace(2.0, 3.0, num=5)"
   ]
  },
  {
   "cell_type": "code",
   "execution_count": null,
   "metadata": {
    "collapsed": true
   },
   "outputs": [],
   "source": []
  }
 ],
 "metadata": {
  "kernelspec": {
   "display_name": "Python 3",
   "language": "python",
   "name": "python3"
  },
  "language_info": {
   "codemirror_mode": {
    "name": "ipython",
    "version": 3
   },
   "file_extension": ".py",
   "mimetype": "text/x-python",
   "name": "python",
   "nbconvert_exporter": "python",
   "pygments_lexer": "ipython3",
   "version": "3.6.1"
  }
 },
 "nbformat": 4,
 "nbformat_minor": 2
}
