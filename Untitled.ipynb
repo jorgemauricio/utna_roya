{
 "cells": [
  {
   "cell_type": "code",
   "execution_count": 1,
   "metadata": {
    "collapsed": true
   },
   "outputs": [],
   "source": [
    "import numpy as np\n",
    "import matplotlib.pyplot as plt\n",
    "from mpl_toolkits.basemap import Basemap\n",
    "import pandas as pd\n",
    "import shapefile\n",
    "%matplotlib inline\n",
    "import os"
   ]
  },
  {
   "cell_type": "code",
   "execution_count": 6,
   "metadata": {},
   "outputs": [],
   "source": [
    "df = pd.DataFrame()\n",
    "for i in range (1, 6):\n",
    "    datos = pd.read_csv('datos/2018-02-14/d{}.txt'.format(i))\n",
    "    df['Tpro{}'.format(i)] = datos['Tpro'.format(i)]\n",
    "    df['Noch_fres{}'.format(i)] = (datos['Tmax'.format(i)] - datos['Tmin'.format(i)])\n",
    "    df['Dpoint{}'.format(i)] = datos['Dpoint'.format(i)]\n",
    "    Long = datos['Long']\n",
    "    Lat = datos['Lat']\n",
    "    WprSoil10_40 = datos['WprSoil10_40']\n",
    "df['Long'] = Long\n",
    "df['Lat'] = Lat\n",
    "df['WprSoil10_40'] = WprSoil10_40\n"
   ]
  },
  {
   "cell_type": "code",
   "execution_count": 7,
   "metadata": {},
   "outputs": [
    {
     "data": {
      "text/html": [
       "<div>\n",
       "<style>\n",
       "    .dataframe thead tr:only-child th {\n",
       "        text-align: right;\n",
       "    }\n",
       "\n",
       "    .dataframe thead th {\n",
       "        text-align: left;\n",
       "    }\n",
       "\n",
       "    .dataframe tbody tr th {\n",
       "        vertical-align: top;\n",
       "    }\n",
       "</style>\n",
       "<table border=\"1\" class=\"dataframe\">\n",
       "  <thead>\n",
       "    <tr style=\"text-align: right;\">\n",
       "      <th></th>\n",
       "      <th>Tpro1</th>\n",
       "      <th>Noch_fres1</th>\n",
       "      <th>Dpoint1</th>\n",
       "      <th>Tpro2</th>\n",
       "      <th>Noch_fres2</th>\n",
       "      <th>Dpoint2</th>\n",
       "      <th>Tpro3</th>\n",
       "      <th>Noch_fres3</th>\n",
       "      <th>Dpoint3</th>\n",
       "      <th>Tpro4</th>\n",
       "      <th>Noch_fres4</th>\n",
       "      <th>Dpoint4</th>\n",
       "      <th>Tpro5</th>\n",
       "      <th>Noch_fres5</th>\n",
       "      <th>Dpoint5</th>\n",
       "      <th>Long</th>\n",
       "      <th>Lat</th>\n",
       "      <th>WprSoil10_40</th>\n",
       "    </tr>\n",
       "  </thead>\n",
       "  <tbody>\n",
       "    <tr>\n",
       "      <th>0</th>\n",
       "      <td>25.8067</td>\n",
       "      <td>8.736375</td>\n",
       "      <td>22.2458</td>\n",
       "      <td>25.8596</td>\n",
       "      <td>8.681395</td>\n",
       "      <td>22.4375</td>\n",
       "      <td>25.9517</td>\n",
       "      <td>8.804130</td>\n",
       "      <td>22.6504</td>\n",
       "      <td>26.0550</td>\n",
       "      <td>8.676904</td>\n",
       "      <td>22.9087</td>\n",
       "      <td>26.0604</td>\n",
       "      <td>8.458291</td>\n",
       "      <td>23.1225</td>\n",
       "      <td>-118.236</td>\n",
       "      <td>12.3782</td>\n",
       "      <td>100.0</td>\n",
       "    </tr>\n",
       "    <tr>\n",
       "      <th>1</th>\n",
       "      <td>25.8258</td>\n",
       "      <td>8.715477</td>\n",
       "      <td>22.2612</td>\n",
       "      <td>25.8571</td>\n",
       "      <td>8.752294</td>\n",
       "      <td>22.4208</td>\n",
       "      <td>25.9671</td>\n",
       "      <td>8.776864</td>\n",
       "      <td>22.6508</td>\n",
       "      <td>26.0646</td>\n",
       "      <td>8.696904</td>\n",
       "      <td>22.9067</td>\n",
       "      <td>26.0754</td>\n",
       "      <td>8.465107</td>\n",
       "      <td>23.1146</td>\n",
       "      <td>-118.109</td>\n",
       "      <td>12.3782</td>\n",
       "      <td>100.0</td>\n",
       "    </tr>\n",
       "    <tr>\n",
       "      <th>2</th>\n",
       "      <td>25.8392</td>\n",
       "      <td>8.711395</td>\n",
       "      <td>22.2850</td>\n",
       "      <td>25.8612</td>\n",
       "      <td>8.785926</td>\n",
       "      <td>22.4133</td>\n",
       "      <td>25.9792</td>\n",
       "      <td>8.746415</td>\n",
       "      <td>22.6629</td>\n",
       "      <td>26.0737</td>\n",
       "      <td>8.737802</td>\n",
       "      <td>22.9121</td>\n",
       "      <td>26.0804</td>\n",
       "      <td>8.481923</td>\n",
       "      <td>23.0954</td>\n",
       "      <td>-117.981</td>\n",
       "      <td>12.3782</td>\n",
       "      <td>100.0</td>\n",
       "    </tr>\n",
       "    <tr>\n",
       "      <th>3</th>\n",
       "      <td>25.8450</td>\n",
       "      <td>8.771395</td>\n",
       "      <td>22.3029</td>\n",
       "      <td>25.8733</td>\n",
       "      <td>8.748212</td>\n",
       "      <td>22.4292</td>\n",
       "      <td>25.9821</td>\n",
       "      <td>8.740048</td>\n",
       "      <td>22.6867</td>\n",
       "      <td>26.0800</td>\n",
       "      <td>8.717802</td>\n",
       "      <td>22.9233</td>\n",
       "      <td>26.0829</td>\n",
       "      <td>8.508740</td>\n",
       "      <td>23.0975</td>\n",
       "      <td>-117.854</td>\n",
       "      <td>12.3782</td>\n",
       "      <td>100.0</td>\n",
       "    </tr>\n",
       "    <tr>\n",
       "      <th>4</th>\n",
       "      <td>25.8425</td>\n",
       "      <td>8.801395</td>\n",
       "      <td>22.3125</td>\n",
       "      <td>25.8862</td>\n",
       "      <td>8.696864</td>\n",
       "      <td>22.4575</td>\n",
       "      <td>25.9800</td>\n",
       "      <td>8.736864</td>\n",
       "      <td>22.7233</td>\n",
       "      <td>26.0912</td>\n",
       "      <td>8.707802</td>\n",
       "      <td>22.9404</td>\n",
       "      <td>26.0812</td>\n",
       "      <td>8.518740</td>\n",
       "      <td>23.1004</td>\n",
       "      <td>-117.726</td>\n",
       "      <td>12.3782</td>\n",
       "      <td>100.0</td>\n",
       "    </tr>\n",
       "  </tbody>\n",
       "</table>\n",
       "</div>"
      ],
      "text/plain": [
       "     Tpro1  Noch_fres1  Dpoint1    Tpro2  Noch_fres2  Dpoint2    Tpro3  \\\n",
       "0  25.8067    8.736375  22.2458  25.8596    8.681395  22.4375  25.9517   \n",
       "1  25.8258    8.715477  22.2612  25.8571    8.752294  22.4208  25.9671   \n",
       "2  25.8392    8.711395  22.2850  25.8612    8.785926  22.4133  25.9792   \n",
       "3  25.8450    8.771395  22.3029  25.8733    8.748212  22.4292  25.9821   \n",
       "4  25.8425    8.801395  22.3125  25.8862    8.696864  22.4575  25.9800   \n",
       "\n",
       "   Noch_fres3  Dpoint3    Tpro4  Noch_fres4  Dpoint4    Tpro5  Noch_fres5  \\\n",
       "0    8.804130  22.6504  26.0550    8.676904  22.9087  26.0604    8.458291   \n",
       "1    8.776864  22.6508  26.0646    8.696904  22.9067  26.0754    8.465107   \n",
       "2    8.746415  22.6629  26.0737    8.737802  22.9121  26.0804    8.481923   \n",
       "3    8.740048  22.6867  26.0800    8.717802  22.9233  26.0829    8.508740   \n",
       "4    8.736864  22.7233  26.0912    8.707802  22.9404  26.0812    8.518740   \n",
       "\n",
       "   Dpoint5     Long      Lat  WprSoil10_40  \n",
       "0  23.1225 -118.236  12.3782         100.0  \n",
       "1  23.1146 -118.109  12.3782         100.0  \n",
       "2  23.0954 -117.981  12.3782         100.0  \n",
       "3  23.0975 -117.854  12.3782         100.0  \n",
       "4  23.1004 -117.726  12.3782         100.0  "
      ]
     },
     "execution_count": 7,
     "metadata": {},
     "output_type": "execute_result"
    }
   ],
   "source": [
    "df.head()"
   ]
  },
  {
   "cell_type": "code",
   "execution_count": 32,
   "metadata": {},
   "outputs": [
    {
     "name": "stderr",
     "output_type": "stream",
     "text": [
      "C:\\Users\\yagam\\Anaconda3\\lib\\site-packages\\mpl_toolkits\\basemap\\__init__.py:3236: MatplotlibDeprecationWarning: The ishold function was deprecated in version 2.0.\n",
      "  b = ax.ishold()\n",
      "C:\\Users\\yagam\\Anaconda3\\lib\\site-packages\\mpl_toolkits\\basemap\\__init__.py:3245: MatplotlibDeprecationWarning: axes.hold is deprecated.\n",
      "    See the API Changes document (http://matplotlib.org/api/api_changes.html)\n",
      "    for more details.\n",
      "  ax.hold(b)\n"
     ]
    },
    {
     "name": "stdout",
     "output_type": "stream",
     "text": [
      "Generando Mapa \"Roya - 2018-02-14 - d1.png\" ...\n",
      "Generando Mapa \"Roya - 2018-02-14 - d2.png\" ...\n",
      "Generando Mapa \"Roya - 2018-02-14 - d3.png\" ...\n",
      "Generando Mapa \"Roya - 2018-02-14 - d4.png\" ...\n",
      "Generando Mapa \"Roya - 2018-02-14 - d5.png\" ...\n"
     ]
    },
    {
     "data": {
      "image/png": "[encoded data removed]",
      "text/plain": [
       "<matplotlib.figure.Figure at 0x18454969e80>"
      ]
     },
     "metadata": {},
     "output_type": "display_data"
    }
   ],
   "source": [
    "Var = ['Tpro', 'Dpoint', 'Tmax', 'Tmin', 'Long', 'Lat']\n",
    "for i in range (1, 6):\n",
    "    datos = pd.read_csv('datos/2018-02-14/d{}.txt'.format(i))\n",
    "    Long= np.array(datos[Var[4]])\n",
    "    Long_min=Long.min()\n",
    "    Long_max=Long.max()\n",
    "    Lat= np.array(datos[Var[5]])\n",
    "    Lat_min=Lat.min()\n",
    "    Lat_max=Lat.max() \n",
    "    Tierra = datos.loc[datos['WprSoil10_40'] <= 99]\n",
    "    Tierra = Tierra.loc[Tierra[Var[0]] >=25]\n",
    "    Tierra = Tierra.loc[Tierra[Var[0]] <=30]\n",
    "    Tierra = Tierra.loc[Tierra[Var[1]] >5]\n",
    "    Tierra = Tierra.loc[(Tierra[Var[2]] - Tierra[Var[3]]) >=15]\n",
    "    Tierra = Tierra.loc[(Tierra[Var[2]] - Tierra[Var[3]]) <=20]\n",
    "    Eje_x = np.array(Tierra[Var[4]])\n",
    "    Eje_y = np.array(Tierra[Var[5]])  \n",
    "    map = Basemap(projection='mill', resolution='c', llcrnrlon=Long.min(), llcrnrlat=Lat.min(), urcrnrlon=Long.max(), urcrnrlat=Lat.max())\n",
    "    x, y = map(Eje_x, Eje_y)\n",
    "    map.scatter(x, y, marker='.',color='green')\n",
    "    map.readshapefile(\"../../shapes/Estados\", 'Mill')\n",
    "    print ('Generando Mapa \"Roya - 2018-02-14 - d{}.png\" ...'.format(i))\n",
    "    plt.title('Pronostico de Roya \\n 2018-02-14 - d{}'.format(i))\n",
    "    plt.savefig(\"mapas/2018-02-14/Roya - 2018-02-14 - d{}.png\".format(i))"
   ]
  },
  {
   "cell_type": "code",
   "execution_count": 19,
   "metadata": {},
   "outputs": [
    {
     "data": {
      "text/plain": [
       "29.0183"
      ]
     },
     "execution_count": 19,
     "metadata": {},
     "output_type": "execute_result"
    }
   ],
   "source": [
    "Tierra['Tpro'].max()"
   ]
  },
  {
   "cell_type": "code",
   "execution_count": 20,
   "metadata": {},
   "outputs": [
    {
     "data": {
      "text/plain": [
       "25.0004"
      ]
     },
     "execution_count": 20,
     "metadata": {},
     "output_type": "execute_result"
    }
   ],
   "source": [
    "Tierra['Tpro'].min()"
   ]
  },
  {
   "cell_type": "code",
   "execution_count": 25,
   "metadata": {},
   "outputs": [
    {
     "data": {
      "text/plain": [
       "19.98694848996925"
      ]
     },
     "execution_count": 25,
     "metadata": {},
     "output_type": "execute_result"
    }
   ],
   "source": [
    "(Tierra['Tmax']-Tierra['Tmin']).max()"
   ]
  },
  {
   "cell_type": "code",
   "execution_count": 26,
   "metadata": {},
   "outputs": [
    {
     "data": {
      "text/plain": [
       "15.051622519893417"
      ]
     },
     "execution_count": 26,
     "metadata": {},
     "output_type": "execute_result"
    }
   ],
   "source": [
    "(Tierra['Tmax']-Tierra['Tmin']).min()"
   ]
  },
  {
   "cell_type": "code",
   "execution_count": 27,
   "metadata": {},
   "outputs": [
    {
     "data": {
      "text/plain": [
       "9.05583"
      ]
     },
     "execution_count": 27,
     "metadata": {},
     "output_type": "execute_result"
    }
   ],
   "source": [
    "Tierra['Dpoint'].min()"
   ]
  },
  {
   "cell_type": "code",
   "execution_count": 45,
   "metadata": {},
   "outputs": [
    {
     "name": "stdout",
     "output_type": "stream",
     "text": [
      "de\n",
      "dr\n"
     ]
    }
   ],
   "source": [
    "arr = ['de', 'dr']\n",
    "for i in range (0,2):\n",
    "    print (arr[i])"
   ]
  },
  {
   "cell_type": "code",
   "execution_count": null,
   "metadata": {
    "collapsed": true
   },
   "outputs": [],
   "source": []
  }
 ],
 "metadata": {
  "kernelspec": {
   "display_name": "Python 3",
   "language": "python",
   "name": "python3"
  },
  "language_info": {
   "codemirror_mode": {
    "name": "ipython",
    "version": 3
   },
   "file_extension": ".py",
   "mimetype": "text/x-python",
   "name": "python",
   "nbconvert_exporter": "python",
   "pygments_lexer": "ipython3",
   "version": "3.6.1"
  }
 },
 "nbformat": 4,
 "nbformat_minor": 2
}
