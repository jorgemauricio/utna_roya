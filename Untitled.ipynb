{
 "cells": [
  {
   "cell_type": "code",
   "execution_count": 1,
   "metadata": {
    "collapsed": true
   },
   "outputs": [],
   "source": [
    "import numpy as np\n",
    "import matplotlib.pyplot as plt\n",
    "from mpl_toolkits.basemap import Basemap\n",
    "import pandas as pd\n",
    "import shapefile\n",
    "%matplotlib inline\n",
    "import os"
   ]
  },
  {
   "cell_type": "code",
   "execution_count": 109,
   "metadata": {
    "collapsed": true
   },
   "outputs": [],
   "source": [
    "df = pd.DataFrame()\n",
    "for i in range (1, 6):\n",
    "    datos = pd.read_csv('datos/2018-02-14/d{}.txt'.format(i))\n",
    "    df['Tpro{}'.format(i)] = datos['Tpro'.format(i)]\n",
    "    df['Noch_fres{}'.format(i)] = (datos['Tmax'.format(i)] - datos['Tmin'.format(i)])\n",
    "    df['Dpoint{}'.format(i)] = datos['Dpoint'.format(i)]\n",
    "    Long = datos['Long']\n",
    "    Lat = datos['Lat']\n",
    "    WprSoil10_40 = datos['WprSoil10_40']\n",
    "df['Long'] = Long\n",
    "df['Lat'] = Lat\n",
    "df['WprSoil10_40'] = WprSoil10_40\n"
   ]
  },
  {
   "cell_type": "code",
   "execution_count": null,
   "metadata": {},
   "outputs": [],
   "source": [
    "for i in range (0, df.shape[0]):\n",
    "    if df['Dpoint1'][i]:\n",
    "        df['d1'] = 1\n"
   ]
  },
  {
   "cell_type": "code",
   "execution_count": null,
   "metadata": {},
   "outputs": [],
   "source": [
    "print(df)"
   ]
  },
  {
   "cell_type": "code",
   "execution_count": 52,
   "metadata": {},
   "outputs": [
    {
     "name": "stderr",
     "output_type": "stream",
     "text": [
      "C:\\Users\\yagam\\Anaconda3\\lib\\site-packages\\mpl_toolkits\\basemap\\__init__.py:3236: MatplotlibDeprecationWarning: The ishold function was deprecated in version 2.0.\n",
      "  b = ax.ishold()\n",
      "C:\\Users\\yagam\\Anaconda3\\lib\\site-packages\\mpl_toolkits\\basemap\\__init__.py:3245: MatplotlibDeprecationWarning: axes.hold is deprecated.\n",
      "    See the API Changes document (http://matplotlib.org/api/api_changes.html)\n",
      "    for more details.\n",
      "  ax.hold(b)\n"
     ]
    },
    {
     "name": "stdout",
     "output_type": "stream",
     "text": [
      "Generando Mapa \"Roya - 2018-02-14 - d1.png\" ...\n"
     ]
    },
    {
     "data": {
      "image/png": "[encoded data removed]",
      "text/plain": [
       "<matplotlib.figure.Figure at 0x1844e58d3c8>"
      ]
     },
     "metadata": {},
     "output_type": "display_data"
    }
   ],
   "source": [
    "Var = ['Tpro', 'Dpoint', 'Tmax', 'Tmin', 'Long', 'Lat']\n",
    "for i in range (1, 2):\n",
    "    datos = pd.read_csv('datos/2018-02-14/d{}.txt'.format(i))\n",
    "    Long= np.array(datos[Var[4]])\n",
    "    Long_min=Long.min()\n",
    "    Long_max=Long.max()\n",
    "    Lat= np.array(datos[Var[5]])\n",
    "    Lat_min=Lat.min()\n",
    "    Lat_max=Lat.max() \n",
    "    Tierra = datos.loc[datos['WprSoil10_40'] <= 99]\n",
    "    Tierra = Tierra.loc[Tierra[Var[0]] >=25]\n",
    "    Tierra = Tierra.loc[Tierra[Var[0]] <=30]\n",
    "    Tierra = Tierra.loc[Tierra[Var[1]] >5]\n",
    "    Tierra = Tierra.loc[(Tierra[Var[2]] - Tierra[Var[3]]) >=15]\n",
    "    Tierra = Tierra.loc[(Tierra[Var[2]] - Tierra[Var[3]]) <=20]\n",
    "    Eje_x = np.array(Tierra[Var[4]])\n",
    "    Eje_y = np.array(Tierra[Var[5]])  \n",
    "    map = Basemap(projection='mill', resolution='c', llcrnrlon=Long.min(), llcrnrlat=Lat.min(), urcrnrlon=Long.max(), urcrnrlat=Lat.max())\n",
    "    x, y = map(Eje_x, Eje_y)\n",
    "    map.scatter(x, y, marker=',',color='#0000FF', s=1)\n",
    "    map.readshapefile(\"../../shapes/Estados\", 'Mill')\n",
    "    print ('Generando Mapa \"Roya - 2018-02-14 - d{}.png\" ...'.format(i))\n",
    "    plt.title('Pronostico de Roya \\n 2018-02-14 - d{}'.format(i))\n",
    "    plt.savefig(\"mapas/2018-02-14/Roya - 2018-02-14 - d{}.png\".format(i))"
   ]
  },
  {
   "cell_type": "code",
   "execution_count": 19,
   "metadata": {},
   "outputs": [
    {
     "data": {
      "text/plain": [
       "29.0183"
      ]
     },
     "execution_count": 19,
     "metadata": {},
     "output_type": "execute_result"
    }
   ],
   "source": [
    "Tierra['Tpro'].max()"
   ]
  },
  {
   "cell_type": "code",
   "execution_count": 20,
   "metadata": {},
   "outputs": [
    {
     "data": {
      "text/plain": [
       "25.0004"
      ]
     },
     "execution_count": 20,
     "metadata": {},
     "output_type": "execute_result"
    }
   ],
   "source": [
    "Tierra['Tpro'].min()"
   ]
  },
  {
   "cell_type": "code",
   "execution_count": 25,
   "metadata": {},
   "outputs": [
    {
     "data": {
      "text/plain": [
       "19.98694848996925"
      ]
     },
     "execution_count": 25,
     "metadata": {},
     "output_type": "execute_result"
    }
   ],
   "source": [
    "(Tierra['Tmax']-Tierra['Tmin']).max()"
   ]
  },
  {
   "cell_type": "code",
   "execution_count": 26,
   "metadata": {},
   "outputs": [
    {
     "data": {
      "text/plain": [
       "15.051622519893417"
      ]
     },
     "execution_count": 26,
     "metadata": {},
     "output_type": "execute_result"
    }
   ],
   "source": [
    "(Tierra['Tmax']-Tierra['Tmin']).min()"
   ]
  },
  {
   "cell_type": "code",
   "execution_count": 27,
   "metadata": {},
   "outputs": [
    {
     "data": {
      "text/plain": [
       "9.05583"
      ]
     },
     "execution_count": 27,
     "metadata": {},
     "output_type": "execute_result"
    }
   ],
   "source": [
    "Tierra['Dpoint'].min()"
   ]
  },
  {
   "cell_type": "code",
   "execution_count": 83,
   "metadata": {
    "collapsed": true
   },
   "outputs": [],
   "source": [
    "XD = []"
   ]
  },
  {
   "cell_type": "code",
   "execution_count": 84,
   "metadata": {
    "collapsed": true
   },
   "outputs": [],
   "source": [
    "XD.append('122')"
   ]
  },
  {
   "cell_type": "code",
   "execution_count": 85,
   "metadata": {},
   "outputs": [
    {
     "name": "stdout",
     "output_type": "stream",
     "text": [
      "['122']\n"
     ]
    }
   ],
   "source": [
    "print (XD)\n",
    "a =[]"
   ]
  },
  {
   "cell_type": "code",
   "execution_count": 191,
   "metadata": {
    "collapsed": true
   },
   "outputs": [],
   "source": [
    "if n.shape[:1] == (0,):\n",
    "    a.append(0)\n",
    "else:\n",
    "    a.append(1)"
   ]
  },
  {
   "cell_type": "code",
   "execution_count": 192,
   "metadata": {},
   "outputs": [
    {
     "name": "stdout",
     "output_type": "stream",
     "text": [
      "[1, 1, 1, 1, 1, 1, 1, 1, 1, 1, 0, 0, 0, 1]\n"
     ]
    }
   ],
   "source": [
    "print(a)"
   ]
  },
  {
   "cell_type": "code",
   "execution_count": 189,
   "metadata": {
    "collapsed": true
   },
   "outputs": [],
   "source": [
    "n = Tierra.loc[Tierra['Tmin'] > 10]"
   ]
  },
  {
   "cell_type": "code",
   "execution_count": 185,
   "metadata": {},
   "outputs": [
    {
     "name": "stdout",
     "output_type": "stream",
     "text": [
      "Empty DataFrame\n",
      "Columns: [Long, Lat, Graupel, Hail, Rain, Tmax, Tmin, Tpro, Dpoint, Hr, Windpro, WindDir,  Hrmin,  Hrmax,  TprSoil0_10, TprSoil10_40,  WprSoil0_10, WprSoil10_40]\n",
      "Index: []\n"
     ]
    }
   ],
   "source": [
    "print (n)"
   ]
  },
  {
   "cell_type": "code",
   "execution_count": 202,
   "metadata": {},
   "outputs": [
    {
     "data": {
      "text/plain": [
       "516"
      ]
     },
     "execution_count": 202,
     "metadata": {},
     "output_type": "execute_result"
    }
   ],
   "source": [
    "n.shape[0]"
   ]
  },
  {
   "cell_type": "code",
   "execution_count": null,
   "metadata": {
    "collapsed": true
   },
   "outputs": [],
   "source": []
  }
 ],
 "metadata": {
  "kernelspec": {
   "display_name": "Python 3",
   "language": "python",
   "name": "python3"
  },
  "language_info": {
   "codemirror_mode": {
    "name": "ipython",
    "version": 3
   },
   "file_extension": ".py",
   "mimetype": "text/x-python",
   "name": "python",
   "nbconvert_exporter": "python",
   "pygments_lexer": "ipython3",
   "version": "3.6.1"
  }
 },
 "nbformat": 4,
 "nbformat_minor": 2
}
