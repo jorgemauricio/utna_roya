{
 "cells": [
  {
   "cell_type": "code",
   "execution_count": 1,
   "metadata": {
    "collapsed": true
   },
   "outputs": [],
   "source": [
    "from api import claves\n",
    "import pandas as pd \n",
    "import ftplib \n",
    "import time \n",
    "import sys\n",
    "import requests\n",
    "import os\n",
    "import shapefile \n",
    "import numpy as np\n",
    "import matplotlib.pyplot as plt\n",
    "from mpl_toolkits.basemap import Basemap"
   ]
  },
  {
   "cell_type": "code",
   "execution_count": 6,
   "metadata": {
    "collapsed": true
   },
   "outputs": [],
   "source": [
    "def BaseDataFrame(self, fecha): #Funcion que genera un dataframe tomando las variables(Tmax, Tmin, Tpro y Dpoint)\n",
    "\t\tfor i in range(1, 6):\n",
    "\t\t\tdata = pd.read_csv(\"data/2018-03-22/d{}.txt\".format(fecha, i))\n",
    "\t\t\tif i == 1:\n",
    "\t\t\t\tdf = data[['Long','Lat',]]\n",
    "\t\t\t\tdf = (df.assign(Tpro1 = data['Tpro']))\n",
    "\t\t\t\tdf = (df.assign(Dpoint1 = data['Dpoint']))\n",
    "\t\t\t\tdf = (df.assign(Noch_fres1 = (data['Tmax'] - data['Tmin'])))\n",
    "\t\t\telif i == 2:\n",
    "\t\t\t\tdf = (df.assign(Tpro2 = data['Tpro']))\n",
    "\t\t\t\tdf = (df.assign(Dpoint2 = data['Dpoint']))\n",
    "\t\t\t\tdf = (df.assign(Noch_fres2 = (data['Tmax'] - data['Tmin'])))\n",
    "\t\t\telif i == 3:\n",
    "\t\t\t\tdf = (df.assign(Tpro3 = data['Tpro']))\n",
    "\t\t\t\tdf = (df.assign(Dpoint3 = data['Dpoint']))\n",
    "\t\t\t\tdf = (df.assign(Noch_fres3 = (data['Tmax'] - data['Tmin'])))\n",
    "\t\t\telif i == 4:\n",
    "\t\t\t\tdf = (df.assign(Tpro4 = data['Tpro']))\n",
    "\t\t\t\tdf = (df.assign(Dpoint4 = data['Dpoint']))\n",
    "\t\t\t\tdf = (df.assign(Noch_fres4 = (data['Tmax'] - data['Tmin'])))\n",
    "\t\t\telif i == 5:\n",
    "\t\t\t\tdf = (df.assign(Tpro5 = data['Tpro']))\n",
    "\t\t\t\tdf = (df.assign(Dpoint5 = data['Dpoint']))\n",
    "\t\t\t\tdf = (df.assign(Noch_fres5 = (data['Tmax'] - data['Tmin'])))\n",
    "\t\t\t\n",
    "\t\t\t"
   ]
  },
  {
   "cell_type": "code",
   "execution_count": 7,
   "metadata": {},
   "outputs": [
    {
     "ename": "NameError",
     "evalue": "name 'data' is not defined",
     "output_type": "error",
     "traceback": [
      "\u001b[1;31m---------------------------------------------------------------------------\u001b[0m",
      "\u001b[1;31mNameError\u001b[0m                                 Traceback (most recent call last)",
      "\u001b[1;32m<ipython-input-7-199065406915>\u001b[0m in \u001b[0;36m<module>\u001b[1;34m()\u001b[0m\n\u001b[1;32m----> 1\u001b[1;33m \u001b[0mdata\u001b[0m\u001b[1;33m.\u001b[0m\u001b[0mhead\u001b[0m\u001b[1;33m(\u001b[0m\u001b[1;33m)\u001b[0m\u001b[1;33m\u001b[0m\u001b[0m\n\u001b[0m",
      "\u001b[1;31mNameError\u001b[0m: name 'data' is not defined"
     ]
    }
   ],
   "source": []
  },
  {
   "cell_type": "code",
   "execution_count": null,
   "metadata": {
    "collapsed": true
   },
   "outputs": [],
   "source": []
  }
 ],
 "metadata": {
  "kernelspec": {
   "display_name": "Python 3",
   "language": "python",
   "name": "python3"
  },
  "language_info": {
   "codemirror_mode": {
    "name": "ipython",
    "version": 3
   },
   "file_extension": ".py",
   "mimetype": "text/x-python",
   "name": "python",
   "nbconvert_exporter": "python",
   "pygments_lexer": "ipython3",
   "version": "3.6.1"
  }
 },
 "nbformat": 4,
 "nbformat_minor": 2
}
